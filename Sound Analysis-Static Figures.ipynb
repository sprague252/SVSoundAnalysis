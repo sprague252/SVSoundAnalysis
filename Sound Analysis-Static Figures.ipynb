{
  "cells": [
    {
      "metadata": {},
      "cell_type": "markdown",
      "source": "# Sound Analysis for Summer Ventures - Static Figures"
    },
    {
      "metadata": {},
      "cell_type": "markdown",
      "source": "This version of the Sound Analysis notebook produces static figures using *Matplotlib*. These static figures are good for use in PowerPoint presentations and in papers. They can be exported to PNG, PDF, or JPEG files with the figure. There is also an *Interactive Figures* verion of this notebook."
    },
    {
      "metadata": {},
      "cell_type": "markdown",
      "source": "This Jupyter notebook will allow you to do analysis of sound recordings and make graphs using the Plotly modules. Get started by following the directions before each cell. Change the parameters as needed, and execute the commands in the cell by entering `Shift-Enter` or `Shift-Return` with your the cell selected or with your cursor in the cell."
    },
    {
      "metadata": {},
      "cell_type": "markdown",
      "source": "Remember that you the order that you enter cells matters, not the order in which they appear in the notebook."
    },
    {
      "metadata": {},
      "cell_type": "markdown",
      "source": "## Load Python Modules"
    },
    {
      "metadata": {},
      "cell_type": "markdown",
      "source": "Enter the cell below to ensure the svsound package is installed. (You can configure Azure to do this by default by setting it to load the `requirements.txt` file in the Project Settings menu where you first pressed the `Run` button.)"
    },
    {
      "metadata": {
        "trusted": true
      },
      "cell_type": "code",
      "source": "!pip install svsound",
      "execution_count": null,
      "outputs": []
    },
    {
      "metadata": {},
      "cell_type": "markdown",
      "source": "Enter the cell below to load the Python modules you will need. Add any additional modules you need for your specific calculations."
    },
    {
      "metadata": {
        "trusted": true
      },
      "cell_type": "code",
      "source": "import numpy as np # Numerical analysis package\nimport scipy.signal as signal # Signal processing module\nimport matplotlib.pyplot as plt # Plotting module\nfrom SVSound import wavefile # Module to read WAV files",
      "execution_count": null,
      "outputs": []
    },
    {
      "metadata": {},
      "cell_type": "markdown",
      "source": "## Read WAV File(s)"
    },
    {
      "metadata": {},
      "cell_type": "markdown",
      "source": "You will use `wavefile.read` to read the information and data from sound recordings in the WAV format. This function was written to read WAV files written by many different devices, including the smartphone apps you may use."
    },
    {
      "metadata": {},
      "cell_type": "markdown",
      "source": "The `wavefile.read` function returns the file parameters and the data so you can use them for your analysis. As with most Python programs, enter `?wavefile` and `?wavefile.read` to get more information about them."
    },
    {
      "metadata": {},
      "cell_type": "markdown",
      "source": "Enter the cell below to read the file `Beats.wav`, which has been loaded into this project. If you want to read a different WAV file, upload it to your project folder and change the `\"Beats.wav\"` in the command below to your filename (in quotes). (As always, feel free to change variable names `beats_info` and `beats_wave` to something that works for you.)"
    },
    {
      "metadata": {
        "trusted": true
      },
      "cell_type": "code",
      "source": "beats_info, beats_wave = wavefile.read(\"Beats.wav\")",
      "execution_count": null,
      "outputs": []
    },
    {
      "metadata": {},
      "cell_type": "markdown",
      "source": "Now we are going to make variable with the times of each sample in `beats_wave`. We do this by taking a list of all the samples (0, 1, 2, 3, ...) amd dividing by the sampling frequency (because period $T = 1/f$). Do this by entering the cell below."
    },
    {
      "metadata": {
        "trusted": true
      },
      "cell_type": "code",
      "source": "beats_times = np.arange(beats_info['Nsamples']) / beats_info['fs']",
      "execution_count": null,
      "outputs": []
    },
    {
      "metadata": {},
      "cell_type": "markdown",
      "source": "Now we will open a second WAV file, `OrganPipeOpenClosed.wav` so you can have two examples. Enter the cell below to run the same command we did above for this file."
    },
    {
      "metadata": {
        "trusted": true
      },
      "cell_type": "code",
      "source": "pipe_info, pipe_wave = wavefile.read(\"OrganPipeOpenClosed.wav\")\npipe_times = np.arange(pipe_info['Nsamples']) / pipe_info['fs']",
      "execution_count": null,
      "outputs": []
    },
    {
      "metadata": {},
      "cell_type": "markdown",
      "source": "## Plot Waveforms"
    },
    {
      "metadata": {},
      "cell_type": "markdown",
      "source": "The cell below generates a plot of the entire `beats_wave` variable vs. the time values stored in `beats_times`. The resulting graph has buttons for zooming, panning, etc. Enter the cell below to beterate the graph."
    },
    {
      "metadata": {
        "trusted": true
      },
      "cell_type": "code",
      "source": "fig, ax = plt.subplots(figsize=[12, 6])\nax.plot(beats_times, beats_wave, '-b')\nax.set_xlabel('Time (s)')\nax.set_ylabel('Relative Pressure');",
      "execution_count": null,
      "outputs": []
    },
    {
      "metadata": {},
      "cell_type": "markdown",
      "source": "You can also save a static image of the plot for use in a report or presentation. You cannot zoom and pan a static image. Enter the cell below to save a PNG file containing the plot. You can also save a plot to JPEG, PDF, and SVG by changing the extension (part after the period) in the exported filename."
    },
    {
      "metadata": {
        "trusted": true
      },
      "cell_type": "code",
      "source": "fig.savefig(\"Beats Wave Plot.pdf\")",
      "execution_count": null,
      "outputs": []
    },
    {
      "metadata": {},
      "cell_type": "markdown",
      "source": "Now plot the second sound `pipe_wave`."
    },
    {
      "metadata": {
        "trusted": true
      },
      "cell_type": "code",
      "source": "fig, ax = plt.subplots(figsize=[12, 6])\nax.plot(pipe_times, pipe_wave, '-b')\nax.set_xlabel('Time (s)')\nax.set_ylabel('Relative Pressure');",
      "execution_count": null,
      "outputs": []
    },
    {
      "metadata": {},
      "cell_type": "markdown",
      "source": "You can save this plot using the same commands as the previous plot, replacing the name `beats_wavefig` with `pipe_wavfig`."
    },
    {
      "metadata": {},
      "cell_type": "markdown",
      "source": "## Power Spectrum"
    },
    {
      "metadata": {},
      "cell_type": "markdown",
      "source": "First we will produce a power spectrum of the entire first sound stored in `beats_wave` with parameters stored in `beats_info`. Begin by displaying the sampling frequency."
    },
    {
      "metadata": {},
      "cell_type": "markdown",
      "source": "There is a tradeoff in FFTs and power spectra. You need to take more FFT samples to get a greater frequency resolution, but that requires you to sample a larger total time. If you are interested in frequency resolution, choose a large FFT size. If you want averaging, choose a smaller FFT size."
    },
    {
      "metadata": {},
      "cell_type": "markdown",
      "source": "Now we will produce power spectra of portions of the first sound. First enter the number of FFT points you want to use. In this case, we are going to set the number of FFT points to the same number as the sampling frequency. This will give us a total sampling time of 1 s and a frequency resolution of 1 Hz."
    },
    {
      "metadata": {
        "trusted": true
      },
      "cell_type": "code",
      "source": "nfft = beats_info[\"fs\"]",
      "execution_count": null,
      "outputs": []
    },
    {
      "metadata": {},
      "cell_type": "markdown",
      "source": "Now enter the cell below to calculate the power spectrum of the entire sound."
    },
    {
      "metadata": {
        "trusted": true
      },
      "cell_type": "code",
      "source": "beats_freq, beats_ps = signal.welch(beats_wave, beats_info['fs'], nperseg=nfft)",
      "execution_count": null,
      "outputs": []
    },
    {
      "metadata": {},
      "cell_type": "markdown",
      "source": "Now enter the cell below to graph the power spectrum. Notice that we take the logarithm of the power spectrum and multiply by 10 before plotting. This converts it to decibels."
    },
    {
      "metadata": {
        "trusted": true
      },
      "cell_type": "code",
      "source": "fig, ax = plt.subplots(figsize=[12, 6])\nax.plot(beats_freq, 10*np.log10(beats_ps), '-b')\nax.set_xlabel('Frequency (Hz)')\nax.set_ylabel('Power Spectral Density (dB)');",
      "execution_count": null,
      "outputs": []
    },
    {
      "metadata": {},
      "cell_type": "markdown",
      "source": "Now we are going to find the power spectrum of the portion of the first sound before the beat with only one tuning fork playing. There are several ways to obtain a segment of the sound, including taking a \"slice\" of the `beats_wave` variable. The easiest way is just to read a segment of the soung because the wavefile.read function will pick out the times for you.\n\nRead the segment of Beats.wav from 1.65 s to 2.68 s by entering the following cell."
    },
    {
      "metadata": {
        "trusted": true
      },
      "cell_type": "code",
      "source": "onefork_info, onefork_wave = wavefile.read(\"Beats.wav\", t0=1.65, t1=2.68)",
      "execution_count": null,
      "outputs": []
    },
    {
      "metadata": {},
      "cell_type": "markdown",
      "source": "Now take a power spectrum of this sound and plot it by entering the following cell. (Notice how we set the x-axis to only show frequencies from 0 Hz to 1000 Hz. You can still zoom out.)"
    },
    {
      "metadata": {
        "trusted": true
      },
      "cell_type": "code",
      "source": "nfft = onefork_info[\"fs\"]\nonefork_freq, onefork_ps = signal.welch(onefork_wave, onefork_info['fs'], nperseg=nfft)\nfig, ax = plt.subplots(figsize=[12, 6])\nax.plot(onefork_freq, 10*np.log10(onefork_ps), '-b')\nax.set_xlim([0, 1000])\nax.set_ylim([-10, 80])\nax.set_xlabel('Frequency (Hz)')\nax.set_ylabel('Power Spectral Density (dB)');",
      "execution_count": null,
      "outputs": []
    },
    {
      "metadata": {},
      "cell_type": "markdown",
      "source": "Now we will take the power spectrum of the portion of the recording from 2.8 s to the end. Read this segment from the file by entering the following cell."
    },
    {
      "metadata": {
        "trusted": true
      },
      "cell_type": "code",
      "source": "twofork_info, twofork_wave = wavefile.read(\"Beats.wav\", t0=2.8, t1=-1)",
      "execution_count": null,
      "outputs": []
    },
    {
      "metadata": {},
      "cell_type": "markdown",
      "source": "Now we will use the same parameters to make a power spectrum of this sound."
    },
    {
      "metadata": {
        "trusted": true
      },
      "cell_type": "code",
      "source": "nfft = twofork_info[\"fs\"]\ntwofork_freq, twofork_ps = signal.welch(twofork_wave, twofork_info['fs'], nperseg=nfft)\nfig, ax = plt.subplots(figsize=[12, 6])\nax.plot(twofork_freq, 10*np.log10(twofork_ps), '-b')\nax.set_xlim([0, 1000])\nax.set_ylim([-10, 80])\nax.set_xlabel('Frequency (Hz)')\nax.set_ylabel('Power Spectral Density (dB)');",
      "execution_count": null,
      "outputs": []
    },
    {
      "metadata": {},
      "cell_type": "markdown",
      "source": "## Spectrogram"
    },
    {
      "metadata": {},
      "cell_type": "markdown",
      "source": "Another important tool for spectral analysis is the spectrogram. A spectrogram is a series of short-time power spectra, which shows how the frequency content changes in time. A spectrogram is a 3-D plot. One axis (usually the x-axis) is time. The second axis (usually the y-axis) is frequency. The z-axis (represented by color) is power spectral density, which represents how much signal power is in that frequency bin. (Note that sometimes but not often spectrograms have time on the y-axis and frequency on the x-axis.) Each slice of a spectrogram at a given time is a power spectrum."
    },
    {
      "metadata": {},
      "cell_type": "markdown",
      "source": "Two important parameters for spectrograms are the number of FFT points. This is the number of samples used to calculate each power spectrum slice. Increasing the number of FFT samples increases the frequency resolution, but it decreases the time resolution because each power spectrum slice takes more time (more samples = more time). The second important parameter is the overlap between FFTs. This means the samples used for each FFT contain some of the samples from the previous FFT. The optimal overlap is half of the points used for each FFT.  In other words, it you use 2048 points for your FFT, the optimal overlap would be 1024 points. You can use an overlap than 1/2 of the FFT points to make smoother plots, but there is no increase of information for these higher overlaps."
    },
    {
      "metadata": {
        "trusted": true
      },
      "cell_type": "code",
      "source": "nfft = 2048\nnoverlap = nfft/2",
      "execution_count": null,
      "outputs": []
    },
    {
      "metadata": {},
      "cell_type": "markdown",
      "source": "Another important parameter is the window function to use. We will use a Hanning window function named `signal.hann`. (This is actually the default window function used for the power spectrum, but we did not have to specify it in tht function call.)\n\nEnter the cell below to calcualate the spectrogram using the number of FFT points and overlap we specified and the Hanning window function."
    },
    {
      "metadata": {
        "trusted": true
      },
      "cell_type": "code",
      "source": "fig, ax = plt.subplots(figsize=[12, 6])\npxx, freq, t, cax = ax.specgram(pipe_wave, Fs=pipe_info['fs'], NFFT=nfft, noverlap=noverlap)\nax.set_xlabel('Time (s)')\nax.set_ylabel('Frequency (Hz)')\nfig.colorbar(cax, label=\"log(PSD)\");",
      "execution_count": null,
      "outputs": []
    },
    {
      "metadata": {},
      "cell_type": "markdown",
      "source": "We can adjust some of the spectrogram parameters to show some of the sound characteristics more clearly. In the example below we use the variables `psdmin` and `psdmax` to set the minimum and maximum power spectral density (PSD) values for the color scale. We will also use `fmin` and `fmax` for the minimum and maximum frequencies displayed in the graph."
    },
    {
      "metadata": {
        "trusted": true
      },
      "cell_type": "code",
      "source": "psdmin = 10\npsdmax = 70\nfmin = 0\nfmax = 2000",
      "execution_count": null,
      "outputs": []
    },
    {
      "metadata": {
        "trusted": true
      },
      "cell_type": "code",
      "source": "fig, ax = plt.subplots(figsize=[12, 6])\npxx, freq, t, cax = ax.specgram(pipe_wave, Fs=pipe_info['fs'], NFFT=nfft, noverlap=noverlap,\n                               vmin=psdmin, vmax=psdmax)\nax.set_xlabel('Time (s)')\nax.set_ylabel('Frequency (Hz)')\nax.set_ylim([fmin, fmax])\nfig.colorbar(cax, label=\"log(PSD)\");",
      "execution_count": null,
      "outputs": []
    },
    {
      "metadata": {},
      "cell_type": "markdown",
      "source": "Note that you can use a `ax.set_xlim` command (similar to the `set_ylim` command above) to display a smaller time interval."
    },
    {
      "metadata": {},
      "cell_type": "markdown",
      "source": "## Wave Plot and Spectrogram"
    },
    {
      "metadata": {},
      "cell_type": "markdown",
      "source": "Sometimes it is good to show both the waveform and the spectrogram of a sound in a combined graph with subplots."
    },
    {
      "metadata": {
        "trusted": true
      },
      "cell_type": "code",
      "source": "fig, ax = plt.subplots(2, 1, sharex=True, figsize=[12, 10])\nax[0].plot(pipe_times, pipe_wave, '-b')\nax[0].set_ylabel('Relative Pressure')\npxx, freq, t, cax = ax[1].specgram(pipe_wave, Fs=pipe_info['fs'], NFFT=nfft, noverlap=noverlap,\n                               vmin=psdmin, vmax=psdmax)\nax[1].set_xlabel('Time (s)')\nax[1].set_ylabel('Frequency (Hz)')\nax[1].set_ylim([fmin, fmax])\nfig.colorbar(cax, label=\"log(PSD)\", orientation='horizontal', shrink=0.5)\nfig.tight_layout();",
      "execution_count": null,
      "outputs": []
    },
    {
      "metadata": {
        "trusted": true
      },
      "cell_type": "code",
      "source": "",
      "execution_count": null,
      "outputs": []
    }
  ],
  "metadata": {
    "kernelspec": {
      "name": "python36",
      "display_name": "Python 3.6",
      "language": "python"
    },
    "language_info": {
      "mimetype": "text/x-python",
      "nbconvert_exporter": "python",
      "name": "python",
      "pygments_lexer": "ipython3",
      "version": "3.6.6",
      "file_extension": ".py",
      "codemirror_mode": {
        "version": 3,
        "name": "ipython"
      }
    }
  },
  "nbformat": 4,
  "nbformat_minor": 4
}